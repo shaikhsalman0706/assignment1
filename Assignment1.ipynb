{
 "cells": [
  {
   "cell_type": "markdown",
   "id": "a6194195",
   "metadata": {},
   "source": [
    "### 1. Who developed Python Programming Language?"
   ]
  },
  {
   "cell_type": "markdown",
   "id": "628a9065",
   "metadata": {},
   "source": [
    "### Ans. Guido van Rossum"
   ]
  },
  {
   "cell_type": "markdown",
   "id": "5a382938",
   "metadata": {},
   "source": [
    "### 2.Which type of programming does python support?"
   ]
  },
  {
   "cell_type": "markdown",
   "id": "68b8bd06",
   "metadata": {},
   "source": [
    "### Ans. Python is an interpreted programming language, which supports object-oriented, structured, and functional programming."
   ]
  },
  {
   "cell_type": "markdown",
   "id": "1c3de19f",
   "metadata": {},
   "source": [
    "### 3. Is Python case sesitive when dealing with identifier? "
   ]
  },
  {
   "cell_type": "markdown",
   "id": "2270fc30",
   "metadata": {},
   "source": [
    "### Ans. Yes"
   ]
  },
  {
   "cell_type": "markdown",
   "id": "3db6cdf5",
   "metadata": {},
   "source": [
    "### 4. What is the correct extension of Python file?"
   ]
  },
  {
   "cell_type": "markdown",
   "id": "9c75b6b6",
   "metadata": {},
   "source": [
    "### Ans .py"
   ]
  },
  {
   "cell_type": "markdown",
   "id": "28fc683f",
   "metadata": {},
   "source": [
    "### 5.Is python code compiled or interpreted?"
   ]
  },
  {
   "cell_type": "markdown",
   "id": "5efe8fdd",
   "metadata": {},
   "source": [
    "### Ans. Interpreted"
   ]
  },
  {
   "cell_type": "markdown",
   "id": "6f7eb94e",
   "metadata": {},
   "source": [
    "### Name a few block of code used to define in Python Language."
   ]
  },
  {
   "cell_type": "markdown",
   "id": "bf011612",
   "metadata": {},
   "source": [
    "### Ans. A module, a function body, and a class definition"
   ]
  },
  {
   "cell_type": "markdown",
   "id": "b06b28a1",
   "metadata": {},
   "source": [
    "### 7. State a character used to give single-line comments in Python?"
   ]
  },
  {
   "cell_type": "markdown",
   "id": "18770ef0",
   "metadata": {},
   "source": [
    "### Ans. By adding a single # character before any statement or line of code."
   ]
  },
  {
   "cell_type": "markdown",
   "id": "8d4f9135",
   "metadata": {},
   "source": [
    "### 8. Mention functions which can help us to find the version of python that we are currently working on?"
   ]
  },
  {
   "cell_type": "markdown",
   "id": "fa6449d2",
   "metadata": {},
   "source": [
    "### Ans. sys.version"
   ]
  },
  {
   "cell_type": "markdown",
   "id": "bcfc3cbe",
   "metadata": {},
   "source": [
    "### 9. Python supports the creation of anonymous functions at runtime, using a construct called _______"
   ]
  },
  {
   "cell_type": "markdown",
   "id": "10007a3f",
   "metadata": {},
   "source": [
    "### Ans. Lambda Function"
   ]
  },
  {
   "cell_type": "markdown",
   "id": "60075814",
   "metadata": {},
   "source": [
    "### 10. What does pip stand for python?"
   ]
  },
  {
   "cell_type": "markdown",
   "id": "4d365fd7",
   "metadata": {},
   "source": [
    "### Ans. Preferred Installer Program"
   ]
  },
  {
   "cell_type": "markdown",
   "id": "924f632f",
   "metadata": {},
   "source": [
    "### 11. Mention a few built-in functions in python?"
   ]
  },
  {
   "cell_type": "markdown",
   "id": "b30182c8",
   "metadata": {},
   "source": [
    "### Ans. print( ) function, type( ) function, input( ) function, abs( ) function, pow( ) function, dir( ) function, sorted( ) function, max( ) function"
   ]
  },
  {
   "cell_type": "markdown",
   "id": "358e62b2",
   "metadata": {},
   "source": [
    "### 12. What is the maximum possible length of an identifier in Python?"
   ]
  },
  {
   "cell_type": "markdown",
   "id": "f82b7912",
   "metadata": {},
   "source": [
    "### Ans. 79"
   ]
  },
  {
   "cell_type": "markdown",
   "id": "ad53c60f",
   "metadata": {},
   "source": [
    "### 13. What are the benefits of using Python?"
   ]
  },
  {
   "cell_type": "markdown",
   "id": "19fbd7de",
   "metadata": {},
   "source": [
    "### Presence of third-party modules \n",
    "### Extensive support libraries(NumPy for numerical calculations, Pandas for data analytics, etc.) \n",
    "### Open source and large active community base \n",
    "### Versatile, Easy to read, learn and write\n",
    "### User-friendly data structures \n",
    "### High-level language \n",
    "### Dynamically typed language(No need to mention data type based on the value assigned, it takes data type) \n",
    "### Object-Oriented and Procedural  Programming language\n",
    "### Portable and Interactive\n",
    "### Ideal for prototypes – provide more functionality with less coding\n",
    "### Highly Efficient(Python’s clean object-oriented design provides enhanced process control, and the language is equipped with excellent text processing and integration capabilities, as well as its own unit testing framework, which makes it more efficient.)\n",
    "### Internet of Things(IoT) Opportunities\n",
    "### Interpreted Language\n",
    "### Portable across Operating systems "
   ]
  },
  {
   "cell_type": "markdown",
   "id": "550236aa",
   "metadata": {},
   "source": [
    "### 14. How Is memory managed in Python?"
   ]
  },
  {
   "cell_type": "markdown",
   "id": "bd13bc2a",
   "metadata": {},
   "source": [
    "### Ans. Memory management in Python involves a private heap containing all Python objects and data structures. The management of this private heap is ensured internally by the Python memory manager."
   ]
  },
  {
   "cell_type": "markdown",
   "id": "779b1b54",
   "metadata": {},
   "source": [
    "### 15. How to install Python on Windows and set path variables?"
   ]
  },
  {
   "cell_type": "markdown",
   "id": "af83b153",
   "metadata": {},
   "source": [
    "### Install python from this link https://www.python.org/downloads/\n",
    "### After this, install it on your PC. Look for the location where PYTHON has been installed on your PC using the following command on your command prompt: cmd python.\n",
    "### Then go to advanced system settings and add new variable and name it as PYTHON_NAME and paste the copied path.\n",
    "### Then look for the path variable, select it's value and select edit\n",
    "### Add a semicolon towards the end of the value if it's not present and then type %PYTHON_HOME%"
   ]
  },
  {
   "cell_type": "markdown",
   "id": "a89810d2",
   "metadata": {},
   "source": [
    "### 16. Is indentation required in python?"
   ]
  },
  {
   "cell_type": "markdown",
   "id": "5b79a5fa",
   "metadata": {},
   "source": [
    "### Ans. Yes"
   ]
  },
  {
   "cell_type": "code",
   "execution_count": null,
   "id": "c5b359d5",
   "metadata": {},
   "outputs": [],
   "source": []
  }
 ],
 "metadata": {
  "kernelspec": {
   "display_name": "Python 3 (ipykernel)",
   "language": "python",
   "name": "python3"
  },
  "language_info": {
   "codemirror_mode": {
    "name": "ipython",
    "version": 3
   },
   "file_extension": ".py",
   "mimetype": "text/x-python",
   "name": "python",
   "nbconvert_exporter": "python",
   "pygments_lexer": "ipython3",
   "version": "3.9.13"
  }
 },
 "nbformat": 4,
 "nbformat_minor": 5
}
